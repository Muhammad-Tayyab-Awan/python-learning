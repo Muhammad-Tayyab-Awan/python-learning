{
 "cells": [
  {
   "cell_type": "markdown",
   "metadata": {},
   "source": [
    "# Variables\n",
    "\n",
    "Variables are containers that are used to store data temporarily. Data stored in variables may vary according to different conditions and operations. To create a variable their are some rules for naming variables that are mentioned below:\n",
    "\n",
    "1. Variable name can only start with letter or underscore ( _ )\n",
    "2. Variable name can only consist of letters, numbers and underscore\n",
    "3. Variables are case sensitive\n",
    "4. Variable name cannot be any of python's reserved keywords like (print)\n",
    "\n",
    "## Popular variable naming conventions\n",
    "\n",
    "### 1. camelCase\n",
    "In camelCase all words of variables are joined and first letter of each word is capitalized except of the first word.\n",
    "\n",
    "For example:\n",
    "\n",
    "        firstName, lastName, studentAge etc.\n",
    "\n",
    "### 2. snake_case\n",
    "In snake_case all words are joined with underscore ( _ ) and are lowercase.\n",
    "\n",
    "For example:\n",
    "\n",
    "        first_day, product_no etc.\n",
    "\n",
    "### 3. PascalCase\n",
    "in PascalCase all words are joined and first letter of each word is capitalized.\n",
    "\n",
    "For example:\n",
    "\n",
    "         StudentName, ProductId etc."
   ]
  }
 ],
 "metadata": {
  "kernelspec": {
   "display_name": "awfera_course",
   "language": "python",
   "name": "python3"
  },
  "language_info": {
   "name": "python",
   "version": "3.12.9"
  }
 },
 "nbformat": 4,
 "nbformat_minor": 2
}
