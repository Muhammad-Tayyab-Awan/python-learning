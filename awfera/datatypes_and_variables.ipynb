{
 "cells": [
  {
   "cell_type": "markdown",
   "metadata": {},
   "source": [
    "# Variables\n",
    "\n",
    "Variables are containers that are used to store data temporarily. Data stored in variables may vary according to different conditions and operations. To create a variable their are some rules for naming variables that are mentioned below:\n",
    "\n",
    "1. Variable name can only start with letter or underscore ( _ )\n",
    "2. Variable name can only consist of letters, numbers and underscore\n",
    "3. Variables are case sensitive\n",
    "4. Variable name cannot be any of python's reserved keywords like (print)\n",
    "\n",
    "## Popular variable naming conventions\n",
    "\n",
    "### 1. camelCase\n",
    "In camelCase all words of variables are joined and first letter of each word is capitalized except of the first word.\n",
    "\n",
    "For example:\n",
    "\n",
    "        firstName, lastName, studentAge etc.\n",
    "\n",
    "### 2. snake_case\n",
    "In snake_case all words are joined with underscore ( _ ) and are lowercase.\n",
    "\n",
    "For example:\n",
    "\n",
    "        first_day, product_no etc.\n",
    "\n",
    "### 3. PascalCase\n",
    "in PascalCase all words are joined and first letter of each word is capitalized.\n",
    "\n",
    "For example:\n",
    "\n",
    "         StudentName, ProductId etc.\n",
    "# Data Types\n",
    "\n",
    "Following are the data types used in python:\n",
    "\n",
    "## 1. Integer\n",
    "It is used to store integer numbers for example -50, 34 and many others it does'nt support decimal numbers\n",
    "\n",
    "For example:"
   ]
  },
  {
   "cell_type": "code",
   "execution_count": null,
   "metadata": {},
   "outputs": [],
   "source": [
    "myAge = 20\n",
    "print(\"My age is : \",myAge) # My age is : 20\n",
    "myAge = 21\n",
    "print(\"My age is : \",myAge) # My age is : 21\n",
    "# to check data type of variable we use type() function\n",
    "print(\"Type of variable is : \",type(myAge)) # Type of variable is : <class 'int'>"
   ]
  },
  {
   "cell_type": "markdown",
   "metadata": {},
   "source": [
    "## 2. Float\n",
    "It is used to store decimal numbers and numbers in exponential form.\n",
    "\n",
    "For example:"
   ]
  },
  {
   "cell_type": "code",
   "execution_count": null,
   "metadata": {},
   "outputs": [],
   "source": [
    "pi = 3.14159\n",
    "print(\"Value of PI is : \",pi); # Value of PI is :  3.14159\n",
    "print(\"Type of PI is : \",type(pi)) #  Type of PI is : <class 'int'>"
   ]
  },
  {
   "cell_type": "markdown",
   "metadata": {},
   "source": [
    "## 3. Boolean\n",
    "It is used to store boolean data which is stored in True or False form, True is also represented by 1 and False is for 0.\n",
    "\n",
    "For example:"
   ]
  },
  {
   "cell_type": "code",
   "execution_count": null,
   "metadata": {},
   "outputs": [],
   "source": [
    "isAccountVerified = True\n",
    "if isAccountVerified:\n",
    "    print(\"Your account is verified\") # prints only if value of isAccountVerified variable is True\n",
    "print(\"Type of isAccountVerified : \", type(isAccountVerified)) # Type of isAccountVerified :  <class 'bool'>"
   ]
  },
  {
   "cell_type": "markdown",
   "metadata": {},
   "source": [
    "## 4. String\n",
    "It is used to store sequence of characters like name, sentence etc. It is defined by encapsulating all the characters in single or double quotes. To define multiline strings we use triple quotes for that.\n",
    "\n",
    "For example:"
   ]
  },
  {
   "cell_type": "code",
   "execution_count": null,
   "metadata": {},
   "outputs": [],
   "source": [
    "firstName = \"Muhammad\"\n",
    "print(\"First name of user is : \", firstName)\n",
    "# First name of user is :  Muhammad\n",
    "# to print a specific character of string we use index values and these value start with 0\n",
    "print(\"First character of users first name is : \", firstName[0]) # First character of users first name is :  M\n",
    "print(\"Type of firstName is : \",type(firstName)) # Type of firstName is :  <class 'str'>\n",
    "print(\"Type of firstName[0] is : \", type(firstName[0])) # Type of firstName[0] is :  <class 'str'>"
   ]
  }
 ],
 "metadata": {
  "kernelspec": {
   "display_name": "awfera_course",
   "language": "python",
   "name": "python3"
  },
  "language_info": {
   "codemirror_mode": {
    "name": "ipython",
    "version": 3
   },
   "file_extension": ".py",
   "mimetype": "text/x-python",
   "name": "python",
   "nbconvert_exporter": "python",
   "pygments_lexer": "ipython3",
   "version": "3.12.9"
  }
 },
 "nbformat": 4,
 "nbformat_minor": 2
}
